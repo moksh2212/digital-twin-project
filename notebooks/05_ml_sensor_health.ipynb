{
 "cells": [
  {
   "cell_type": "code",
   "execution_count": 7,
   "metadata": {},
   "outputs": [
    {
     "name": "stdout",
     "output_type": "stream",
     "text": [
      "Columns: ['date_time', 'co2', 'humidity', 'light', 'movement', 'nodeid', 'pressure', 'roomnum', 'rssi', 'snr', 'temp', 'voltage', 'room_id']\n",
      "✅ Sensor Health Model trained successfully.\n",
      "\n",
      "              precision    recall  f1-score   support\n",
      "\n",
      "           0       1.00      1.00      1.00    164518\n",
      "           1       1.00      1.00      1.00    237498\n",
      "\n",
      "    accuracy                           1.00    402016\n",
      "   macro avg       1.00      1.00      1.00    402016\n",
      "weighted avg       1.00      1.00      1.00    402016\n",
      "\n"
     ]
    }
   ],
   "source": [
    "import sys, os\n",
    "sys.path.append(os.path.abspath(\"..\"))\n",
    "\n",
    "from src.ml.sensor_health import SensorHealthModel\n",
    "import pandas as pd\n",
    "\n",
    "df = pd.read_parquet(\"../data/processed/building_replay\")\n",
    "df.columns = df.columns.str.strip().str.lower()\n",
    "\n",
    "# Step 4: Show available columns\n",
    "print(\"Columns:\", df.columns.tolist())\n",
    "model = SensorHealthModel()\n",
    "df_health = model.fit(df)\n",
    "\n",
    "# Predict sensor health for all readings\n",
    "predicted = model.predict(df)\n",
    "\n",
    "# Save results\n",
    "predicted.to_csv(\"../data/processed/sensor_health_predictions.csv\", index=False)\n"
   ]
  }
 ],
 "metadata": {
  "kernelspec": {
   "display_name": "venv",
   "language": "python",
   "name": "python3"
  },
  "language_info": {
   "codemirror_mode": {
    "name": "ipython",
    "version": 3
   },
   "file_extension": ".py",
   "mimetype": "text/x-python",
   "name": "python",
   "nbconvert_exporter": "python",
   "pygments_lexer": "ipython3",
   "version": "3.13.3"
  }
 },
 "nbformat": 4,
 "nbformat_minor": 2
}

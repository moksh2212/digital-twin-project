{
 "cells": [
  {
   "cell_type": "code",
   "execution_count": 1,
   "metadata": {},
   "outputs": [
    {
     "name": "stdout",
     "output_type": "stream",
     "text": [
      "Training ML models...\n",
      "✅ Preprocessed 2010077 rows. Numeric features used: ['temp', 'humidity', 'co2', 'light', 'movement']\n",
      "✅ Model trained on 2010077 samples and 5 features.\n",
      "✅ Sensor Health Model trained successfully.\n",
      "\n",
      "              precision    recall  f1-score   support\n",
      "\n",
      "           0       1.00      1.00      1.00    164836\n",
      "           1       1.00      1.00      1.00    237180\n",
      "\n",
      "    accuracy                           1.00    402016\n",
      "   macro avg       1.00      1.00      1.00    402016\n",
      "weighted avg       1.00      1.00      1.00    402016\n",
      "\n",
      "✅ Trained K-Means model with 4 clusters on 2010077 readings.\n",
      "✅ All ML models trained.\n",
      "\n",
      "Processed 1000 events | Latest room 6.101:\n",
      "{'date_time': Timestamp('2019-02-09 17:04:16'), 'co2': '55.0', 'humidity': '68.0', 'light': '0.0', 'movement': 'True', 'nodeId': '52ABEF43', 'pressure': '995.3', 'roomNum': '6.101', 'rssi': '-76.0', 'snr': '10.7', 'temp': '24.34', 'voltage': '4.5', 'room_id': '6.101', 'anomaly_flag': 1, 'health_status': 1, 'cluster_label': 3}\n",
      "Processed 2000 events | Latest room 6.316B:\n",
      "{'date_time': Timestamp('2019-02-09 17:14:34'), 'co2': '55.0', 'humidity': '49.0', 'light': '11.0', 'movement': 'True', 'nodeId': 'D5AB6D2F', 'pressure': '993.7', 'roomNum': '6.316B', 'rssi': '-116.0', 'snr': '10.7', 'temp': '27.52', 'voltage': '4.22', 'room_id': '6.316B', 'anomaly_flag': 1, 'health_status': 0, 'cluster_label': 0}\n",
      "Processed 3000 events | Latest room 6.314I:\n",
      "{'date_time': Timestamp('2019-02-09 17:25:07'), 'co2': '55.0', 'humidity': '56.0', 'light': '0.0', 'movement': 'True', 'nodeId': 'F8AB18EA', 'pressure': '993.9', 'roomNum': '6.314I', 'rssi': '-88.0', 'snr': '11.5', 'temp': '24.76', 'voltage': '4.2', 'room_id': '6.314I', 'anomaly_flag': 1, 'health_status': 1, 'cluster_label': 3}\n",
      "Processed 4000 events | Latest room 6.204:\n",
      "{'date_time': Timestamp('2019-02-09 17:35:41'), 'co2': '55.0', 'humidity': '44.0', 'light': '0.0', 'movement': 'False', 'nodeId': '4CAB02A6', 'pressure': '994.2', 'roomNum': '6.204', 'rssi': '-85.0', 'snr': '11.5', 'temp': '27.0', 'voltage': '4.26', 'room_id': '6.204', 'anomaly_flag': 1, 'health_status': 1, 'cluster_label': 0}\n",
      "Processed 5000 events | Latest room 6.312:\n",
      "{'date_time': Timestamp('2019-02-09 17:46:06'), 'co2': '55.0', 'humidity': '64.0', 'light': '0.0', 'movement': 'False', 'nodeId': '8BAB984C', 'pressure': '994.0', 'roomNum': '6.312', 'rssi': '-81.0', 'snr': '11.2', 'temp': '24.42', 'voltage': '3.54', 'room_id': '6.312', 'anomaly_flag': 1, 'health_status': 1, 'cluster_label': 3}\n",
      "Processed 6000 events | Latest room 6.315:\n",
      "{'date_time': Timestamp('2019-02-09 17:56:31'), 'co2': '55.0', 'humidity': '44.0', 'light': '1.0', 'movement': 'False', 'nodeId': '7FAB179B', 'pressure': '994.1', 'roomNum': '6.315', 'rssi': '-99.0', 'snr': '11.2', 'temp': '27.23', 'voltage': '4.24', 'room_id': '6.315', 'anomaly_flag': 1, 'health_status': 1, 'cluster_label': 0}\n",
      "Processed 7000 events | Latest room 6.106:\n",
      "{'date_time': Timestamp('2019-02-09 18:07:10'), 'co2': '55.0', 'humidity': '43.0', 'light': '0.0', 'movement': 'False', 'nodeId': '50ABA064', 'pressure': '995.6', 'roomNum': '6.106', 'rssi': '-89.0', 'snr': '10.7', 'temp': '26.02', 'voltage': '4.16', 'room_id': '6.106', 'anomaly_flag': 1, 'health_status': 1, 'cluster_label': 0}\n",
      "Processed 8000 events | Latest room 6.399D:\n",
      "{'date_time': Timestamp('2019-02-09 18:17:46'), 'co2': '55.0', 'humidity': '52.0', 'light': '1.0', 'movement': 'True', 'nodeId': '8BAB9C6E', 'pressure': '994.9', 'roomNum': '6.399D', 'rssi': '-118.0', 'snr': '11.2', 'temp': '26.48', 'voltage': '4.22', 'room_id': '6.399D', 'anomaly_flag': 1, 'health_status': 0, 'cluster_label': 3}\n",
      "Processed 9000 events | Latest room 6.316B:\n",
      "{'date_time': Timestamp('2019-02-09 18:28:20'), 'co2': '55.0', 'humidity': '45.0', 'light': '5.0', 'movement': 'True', 'nodeId': 'D5AB6D2F', 'pressure': '994.9', 'roomNum': '6.316B', 'rssi': '-117.0', 'snr': '11.0', 'temp': '27.54', 'voltage': '4.22', 'room_id': '6.316B', 'anomaly_flag': 1, 'health_status': 0, 'cluster_label': 0}\n",
      "Processed 10000 events | Latest room 6.110C:\n",
      "{'date_time': Timestamp('2019-02-09 18:39:08'), 'co2': '55.0', 'humidity': '48.0', 'light': '0.0', 'movement': 'False', 'nodeId': '89AB8F36', 'pressure': '996.9', 'roomNum': '6.110C', 'rssi': '-117.0', 'snr': '11.7', 'temp': '26.03', 'voltage': '4.18', 'room_id': '6.110C', 'anomaly_flag': 1, 'health_status': 0, 'cluster_label': 0}\n",
      "Processed 11000 events | Latest room 6.317:\n",
      "{'date_time': Timestamp('2019-02-09 18:49:40'), 'co2': '55.0', 'humidity': '44.0', 'light': '0.0', 'movement': 'False', 'nodeId': '95AB9E6A', 'pressure': '996.1', 'roomNum': '6.317', 'rssi': '-116.0', 'snr': '12.5', 'temp': '27.01', 'voltage': '4.24', 'room_id': '6.317', 'anomaly_flag': 1, 'health_status': 0, 'cluster_label': 0}\n",
      "Processed 12000 events | Latest room 6.399B:\n",
      "{'date_time': Timestamp('2019-02-09 19:00:16'), 'co2': '55.0', 'humidity': '42.0', 'light': '5.0', 'movement': 'True', 'nodeId': 'D4ABB359', 'pressure': '995.8', 'roomNum': '6.399B', 'rssi': '-93.0', 'snr': '11.7', 'temp': '26.56', 'voltage': '4.2', 'room_id': '6.399B', 'anomaly_flag': 1, 'health_status': 1, 'cluster_label': 0}\n",
      "Processed 13000 events | Latest room 6.G14A:\n",
      "{'date_time': Timestamp('2019-02-09 19:10:52'), 'co2': '55.0', 'humidity': '60.0', 'light': '0.0', 'movement': 'False', 'nodeId': '82AB60F2', 'pressure': '998.2', 'roomNum': '6.G14A', 'rssi': '-119.0', 'snr': '10.7', 'temp': '24.05', 'voltage': '4.22', 'room_id': '6.G14A', 'anomaly_flag': 1, 'health_status': 0, 'cluster_label': 1}\n",
      "Processed 14000 events | Latest room 6.202:\n",
      "{'date_time': Timestamp('2019-02-09 19:21:14'), 'co2': '55.0', 'humidity': '38.0', 'light': '0.0', 'movement': 'False', 'nodeId': '8FAB7537', 'pressure': '996.8', 'roomNum': '6.202', 'rssi': '-81.0', 'snr': '11.5', 'temp': '27.3', 'voltage': '4.22', 'room_id': '6.202', 'anomaly_flag': 1, 'health_status': 1, 'cluster_label': 0}\n",
      "Processed 15000 events | Latest room 6.312:\n",
      "{'date_time': Timestamp('2019-02-09 19:31:42'), 'co2': '55.0', 'humidity': '63.0', 'light': '0.0', 'movement': 'False', 'nodeId': '8BAB984C', 'pressure': '996.8', 'roomNum': '6.312', 'rssi': '-83.0', 'snr': '11.7', 'temp': '24.45', 'voltage': '3.54', 'room_id': '6.312', 'anomaly_flag': 1, 'health_status': 1, 'cluster_label': 3}\n",
      "Processed 16000 events | Latest room 6.316B:\n",
      "{'date_time': Timestamp('2019-02-09 19:42:05'), 'co2': '55.0', 'humidity': '46.0', 'light': '0.0', 'movement': 'True', 'nodeId': 'D5AB6D2F', 'pressure': '997.2', 'roomNum': '6.316B', 'rssi': '-116.0', 'snr': '10.7', 'temp': '27.54', 'voltage': '4.22', 'room_id': '6.316B', 'anomaly_flag': 1, 'health_status': 0, 'cluster_label': 0}\n",
      "Processed 17000 events | Latest room 6.314B:\n",
      "{'date_time': Timestamp('2019-02-09 19:52:24'), 'co2': '55.0', 'humidity': '46.0', 'light': '0.0', 'movement': 'False', 'nodeId': 'AEAB0471', 'pressure': '997.8', 'roomNum': '6.314B', 'rssi': '-105.0', 'snr': '11.5', 'temp': '25.5', 'voltage': '4.22', 'room_id': '6.314B', 'anomaly_flag': 1, 'health_status': 0, 'cluster_label': 0}\n",
      "Processed 18000 events | Latest room 6.314E:\n",
      "{'date_time': Timestamp('2019-02-09 20:03:08'), 'co2': '55.0', 'humidity': '44.0', 'light': '0.0', 'movement': 'True', 'nodeId': '7FABD06C', 'pressure': '996.9', 'roomNum': '6.314E', 'rssi': '-94.0', 'snr': '11.7', 'temp': '25.05', 'voltage': '4.1', 'room_id': '6.314E', 'anomaly_flag': 1, 'health_status': 1, 'cluster_label': 0}\n",
      "Processed 19000 events | Latest room 6.315C:\n",
      "{'date_time': Timestamp('2019-02-09 20:13:38'), 'co2': '55.0', 'humidity': '54.0', 'light': '0.0', 'movement': 'True', 'nodeId': 'C8ABBAE2', 'pressure': '998.0', 'roomNum': '6.315C', 'rssi': '-100.0', 'snr': '10.5', 'temp': '25.61', 'voltage': '4.22', 'room_id': '6.315C', 'anomaly_flag': 1, 'health_status': 1, 'cluster_label': 3}\n",
      "Processed 20000 events | Latest room 6.302:\n",
      "{'date_time': Timestamp('2019-02-09 20:24:12'), 'co2': '55.0', 'humidity': '50.0', 'light': '0.0', 'movement': 'False', 'nodeId': 'BEAB6E31', 'pressure': '998.3', 'roomNum': '6.302', 'rssi': '-85.0', 'snr': '10.7', 'temp': '27.26', 'voltage': '4.04', 'room_id': '6.302', 'anomaly_flag': 1, 'health_status': 1, 'cluster_label': 0}\n",
      "Processed 21000 events | Latest room 6.310:\n",
      "{'date_time': Timestamp('2019-02-09 20:35:00'), 'co2': '55.0', 'humidity': '31.0', 'light': '0.0', 'movement': 'False', 'nodeId': '81AB9966', 'pressure': '998.1', 'roomNum': '6.310', 'rssi': '-76.0', 'snr': '11.5', 'temp': '26.96', 'voltage': '4.28', 'room_id': '6.310', 'anomaly_flag': 1, 'health_status': 1, 'cluster_label': 0}\n",
      "Processed 22000 events | Latest room 6.224:\n",
      "{'date_time': Timestamp('2019-02-09 20:45:35'), 'co2': '55.0', 'humidity': '47.0', 'light': '0.0', 'movement': 'True', 'nodeId': '8DAB9AEB', 'pressure': '998.5', 'roomNum': '6.224', 'rssi': '-103.0', 'snr': '11.2', 'temp': '25.88', 'voltage': '4.14', 'room_id': '6.224', 'anomaly_flag': 1, 'health_status': 0, 'cluster_label': 0}\n",
      "Processed 23000 events | Latest room 6.315F:\n",
      "{'date_time': Timestamp('2019-02-09 20:56:03'), 'co2': '55.0', 'humidity': '57.0', 'light': '0.0', 'movement': 'True', 'nodeId': '10AB54C8', 'pressure': '998.8', 'roomNum': '6.315F', 'rssi': '-101.0', 'snr': '11.5', 'temp': '26.15', 'voltage': '4.24', 'room_id': '6.315F', 'anomaly_flag': 1, 'health_status': 0, 'cluster_label': 3}\n",
      "Processed 24000 events | Latest room 6.317B:\n",
      "{'date_time': Timestamp('2019-02-09 21:06:39'), 'co2': '55.0', 'humidity': '60.0', 'light': '0.0', 'movement': 'False', 'nodeId': '33AB391C', 'pressure': '998.7', 'roomNum': '6.317B', 'rssi': '-117.0', 'snr': '10.7', 'temp': '25.06', 'voltage': '4.18', 'room_id': '6.317B', 'anomaly_flag': 1, 'health_status': 0, 'cluster_label': 3}\n",
      "Processed 25000 events | Latest room 6.302:\n",
      "{'date_time': Timestamp('2019-02-09 21:17:04'), 'co2': '55.0', 'humidity': '52.0', 'light': '0.0', 'movement': 'False', 'nodeId': 'BEAB6E31', 'pressure': '999.4', 'roomNum': '6.302', 'rssi': '-85.0', 'snr': '10.7', 'temp': '26.87', 'voltage': '4.04', 'room_id': '6.302', 'anomaly_flag': 1, 'health_status': 1, 'cluster_label': 3}\n",
      "Processed 26000 events | Latest room 6.G08:\n",
      "{'date_time': Timestamp('2019-02-09 21:27:35'), 'co2': '55.0', 'humidity': '47.0', 'light': '0.0', 'movement': 'True', 'nodeId': '60ABC87D', 'pressure': '1001.4', 'roomNum': '6.G08', 'rssi': '-98.0', 'snr': '11.7', 'temp': '27.4', 'voltage': '4.26', 'room_id': '6.G08', 'anomaly_flag': 1, 'health_status': 1, 'cluster_label': 0}\n",
      "Processed 27000 events | Latest room 6.105:\n",
      "{'date_time': Timestamp('2019-02-09 21:37:54'), 'co2': '55.0', 'humidity': '40.0', 'light': '0.0', 'movement': 'True', 'nodeId': 'BAAB68F3', 'pressure': '1002.1', 'roomNum': '6.105', 'rssi': '-97.0', 'snr': '11.2', 'temp': '25.44', 'voltage': '4.08', 'room_id': '6.105', 'anomaly_flag': 1, 'health_status': 1, 'cluster_label': 0}\n",
      "Processed 28000 events | Latest room 6.228:\n",
      "{'date_time': Timestamp('2019-02-09 21:48:24'), 'co2': '55.0', 'humidity': '44.0', 'light': '1.0', 'movement': 'False', 'nodeId': '1CABF1E3', 'pressure': '1000.8', 'roomNum': '6.228', 'rssi': '-118.0', 'snr': '10.7', 'temp': '26.24', 'voltage': '4.2', 'room_id': '6.228', 'anomaly_flag': 1, 'health_status': 0, 'cluster_label': 0}\n",
      "Processed 29000 events | Latest room 6.314I:\n",
      "{'date_time': Timestamp('2019-02-09 21:59:01'), 'co2': '55.0', 'humidity': '51.0', 'light': '0.0', 'movement': 'True', 'nodeId': 'F8AB18EA', 'pressure': '1001.1', 'roomNum': '6.314I', 'rssi': '-88.0', 'snr': '11.2', 'temp': '24.78', 'voltage': '4.2', 'room_id': '6.314I', 'anomaly_flag': 1, 'health_status': 1, 'cluster_label': 0}\n",
      "Processed 30000 events | Latest room 6.227:\n",
      "{'date_time': Timestamp('2019-02-09 22:09:41'), 'co2': '55.0', 'humidity': '49.0', 'light': '0.0', 'movement': 'False', 'nodeId': 'E1AB02A9', 'pressure': '1000.8', 'roomNum': '6.227', 'rssi': '-105.0', 'snr': '11.5', 'temp': '25.92', 'voltage': '4.18', 'room_id': '6.227', 'anomaly_flag': 1, 'health_status': 0, 'cluster_label': 0}\n",
      "Processed 31000 events | Latest room 6.315A:\n",
      "{'date_time': Timestamp('2019-02-09 22:20:00'), 'co2': '55.0', 'humidity': '56.0', 'light': '0.0', 'movement': 'False', 'nodeId': 'C0ABEFFC', 'pressure': '1000.9', 'roomNum': '6.315A', 'rssi': '-94.0', 'snr': '10.7', 'temp': '24.97', 'voltage': '4.26', 'room_id': '6.315A', 'anomaly_flag': 1, 'health_status': 1, 'cluster_label': 3}\n",
      "Processed 32000 events | Latest room 6.315C:\n",
      "{'date_time': Timestamp('2019-02-09 22:30:23'), 'co2': '55.0', 'humidity': '54.0', 'light': '0.0', 'movement': 'True', 'nodeId': 'C8ABBAE2', 'pressure': '1001.7', 'roomNum': '6.315C', 'rssi': '-100.0', 'snr': '10.7', 'temp': '25.55', 'voltage': '4.22', 'room_id': '6.315C', 'anomaly_flag': 1, 'health_status': 1, 'cluster_label': 3}\n",
      "Processed 33000 events | Latest room 6.303:\n",
      "{'date_time': Timestamp('2019-02-09 22:40:38'), 'co2': '55.0', 'humidity': '46.0', 'light': '0.0', 'movement': 'False', 'nodeId': '89AB0BE8', 'pressure': '1002.1', 'roomNum': '6.303', 'rssi': '-88.0', 'snr': '10.7', 'temp': '26.45', 'voltage': '4.24', 'room_id': '6.303', 'anomaly_flag': 1, 'health_status': 1, 'cluster_label': 0}\n",
      "Processed 34000 events | Latest room 6.G07:\n",
      "{'date_time': Timestamp('2019-02-09 22:51:07'), 'co2': '55.0', 'humidity': '58.0', 'light': '0.0', 'movement': 'False', 'nodeId': '5AABA8D7', 'pressure': '1002.9', 'roomNum': '6.G07', 'rssi': '-103.0', 'snr': '11.2', 'temp': '24.6', 'voltage': '4.22', 'room_id': '6.G07', 'anomaly_flag': 1, 'health_status': 0, 'cluster_label': 3}\n",
      "Processed 35000 events | Latest room 6.102:\n",
      "{'date_time': Timestamp('2019-02-09 23:01:39'), 'co2': '55.0', 'humidity': '60.0', 'light': '0.0', 'movement': 'False', 'nodeId': '54AB792D', 'pressure': '1002.5', 'roomNum': '6.102', 'rssi': '-85.0', 'snr': '10.7', 'temp': '23.97', 'voltage': '4.12', 'room_id': '6.102', 'anomaly_flag': 1, 'health_status': 1, 'cluster_label': 1}\n",
      "Processed 36000 events | Latest room 6.314D:\n",
      "{'date_time': Timestamp('2019-02-09 23:12:21'), 'co2': '55.0', 'humidity': '52.0', 'light': '0.0', 'movement': 'True', 'nodeId': 'C6ABDBAA', 'pressure': '1001.4', 'roomNum': '6.314D', 'rssi': '-109.0', 'snr': '11.2', 'temp': '25.29', 'voltage': '4.12', 'room_id': '6.314D', 'anomaly_flag': 1, 'health_status': 0, 'cluster_label': 0}\n",
      "Processed 37000 events | Latest room 6.G06:\n",
      "{'date_time': Timestamp('2019-02-09 23:23:04'), 'co2': '55.0', 'humidity': '61.0', 'light': '0.0', 'movement': 'False', 'nodeId': '45ABDAFE', 'pressure': '1003.0', 'roomNum': '6.G06', 'rssi': '-100.0', 'snr': '11.5', 'temp': '23.52', 'voltage': '4.28', 'room_id': '6.G06', 'anomaly_flag': 1, 'health_status': 1, 'cluster_label': 1}\n",
      "Processed 38000 events | Latest room 6.104:\n",
      "{'date_time': Timestamp('2019-02-09 23:33:36'), 'co2': '55.0', 'humidity': '51.0', 'light': '0.0', 'movement': 'True', 'nodeId': '5CABEFB4', 'pressure': '1005.3', 'roomNum': '6.104', 'rssi': '-99.0', 'snr': '11.7', 'temp': '24.39', 'voltage': '4.26', 'room_id': '6.104', 'anomaly_flag': 1, 'health_status': 1, 'cluster_label': 0}\n",
      "Processed 39000 events | Latest room 6.310:\n",
      "{'date_time': Timestamp('2019-02-09 23:44:17'), 'co2': '55.0', 'humidity': '46.0', 'light': '1.0', 'movement': 'False', 'nodeId': '81AB9966', 'pressure': '1002.1', 'roomNum': '6.310', 'rssi': '-77.0', 'snr': '11.2', 'temp': '26.48', 'voltage': '4.26', 'room_id': '6.310', 'anomaly_flag': 1, 'health_status': 1, 'cluster_label': 0}\n",
      "Processed 40000 events | Latest room 6.G14B:\n",
      "{'date_time': Timestamp('2019-02-09 23:54:38'), 'co2': '55.0', 'humidity': '56.0', 'light': '0.0', 'movement': 'False', 'nodeId': '49AB7220', 'pressure': '1003.9', 'roomNum': '6.G14B', 'rssi': '-120.0', 'snr': '11.5', 'temp': '24.94', 'voltage': '4.26', 'room_id': '6.G14B', 'anomaly_flag': 1, 'health_status': 0, 'cluster_label': 3}\n",
      "🎬 Replay complete.\n"
     ]
    }
   ],
   "source": [
    "import sys, os\n",
    "\n",
    "# Add project root to sys.path so we can import src/*\n",
    "sys.path.append(os.path.abspath(\"..\"))\n",
    "\n",
    "from src.replay.replay_engine import ReplayEngine\n",
    "\n",
    "replayer = ReplayEngine(\"../data/processed/building_replay\", speed=1000)\n",
    "final_state = replayer.run(\"2019-02-09\", \"2019-02-10\", log_every=1000)\n"
   ]
  },
  {
   "cell_type": "code",
   "execution_count": 2,
   "metadata": {},
   "outputs": [],
   "source": [
    "import pandas as pd\n",
    "\n",
    "# Convert nested dict → DataFrame\n",
    "df_state = pd.DataFrame.from_dict(final_state, orient='index').reset_index()\n",
    "\n",
    "# Rename 'index' column to 'room_id' for clarity\n",
    "df_state = df_state.rename(columns={'index': 'room_id'})\n"
   ]
  },
  {
   "cell_type": "code",
   "execution_count": 3,
   "metadata": {},
   "outputs": [
    {
     "name": "stdout",
     "output_type": "stream",
     "text": [
      "🏢 Number of rooms involved: room_id    116\n",
      "room_id    116\n",
      "dtype: int64\n"
     ]
    }
   ],
   "source": [
    "num_rooms = df_state[\"room_id\"].nunique()\n",
    "print(\"🏢 Number of rooms involved:\", num_rooms)"
   ]
  },
  {
   "cell_type": "code",
   "execution_count": 5,
   "metadata": {},
   "outputs": [
    {
     "data": {
      "text/plain": [
       "cluster_label\n",
       "1    116\n",
       "Name: count, dtype: int64"
      ]
     },
     "execution_count": 5,
     "metadata": {},
     "output_type": "execute_result"
    }
   ],
   "source": [
    "df_state[\"cluster_label\"].value_counts()\n"
   ]
  }
 ],
 "metadata": {
  "kernelspec": {
   "display_name": "venv",
   "language": "python",
   "name": "python3"
  },
  "language_info": {
   "codemirror_mode": {
    "name": "ipython",
    "version": 3
   },
   "file_extension": ".py",
   "mimetype": "text/x-python",
   "name": "python",
   "nbconvert_exporter": "python",
   "pygments_lexer": "ipython3",
   "version": "3.13.3"
  }
 },
 "nbformat": 4,
 "nbformat_minor": 2
}

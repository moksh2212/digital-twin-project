{
 "cells": [
  {
   "cell_type": "code",
   "execution_count": 1,
   "metadata": {},
   "outputs": [
    {
     "name": "stdout",
     "output_type": "stream",
     "text": [
      "✅ Trained K-Means model with 4 clusters on 2010077 readings.\n",
      "info             date_time   co2  humidity  light  movement    nodeid  \\\n",
      "index                                                                   \n",
      "158    2019-02-09 16:54:39  55.0      68.0    0.0       0.0  52ABEF43   \n",
      "260    2019-02-09 16:55:43  55.0      68.0    0.0       0.0  52ABEF43   \n",
      "366    2019-02-09 16:56:47  55.0      68.0    0.0       0.0  52ABEF43   \n",
      "466    2019-02-09 16:57:51  55.0      68.0    0.0       0.0  52ABEF43   \n",
      "562    2019-02-09 16:58:55  55.0      68.0    0.0       0.0  52ABEF43   \n",
      "664    2019-02-09 17:00:00  55.0      68.0    0.0       0.0  52ABEF43   \n",
      "772    2019-02-09 17:01:04  55.0      68.0    0.0       0.0  52ABEF43   \n",
      "870    2019-02-09 17:02:08  55.0      68.0    0.0       0.0  52ABEF43   \n",
      "973    2019-02-09 17:03:12  55.0      68.0    0.0       0.0  52ABEF43   \n",
      "1066   2019-02-09 17:04:16  55.0      68.0    0.0       0.0  52ABEF43   \n",
      "\n",
      "info  pressure roomnum   rssi   snr   temp voltage room_id  \n",
      "index                                                       \n",
      "158      995.1   6.101  -76.0  10.7  24.32     4.5   6.101  \n",
      "260      995.1   6.101  -76.0  10.2  24.33     4.5   6.101  \n",
      "366      995.2   6.101  -71.0  20.7  24.34     4.5   6.101  \n",
      "466      995.2   6.101  -75.0  11.2  24.33     4.5   6.101  \n",
      "562      995.2   6.101  -76.0  11.2  24.33     4.5   6.101  \n",
      "664      995.3   6.101  -76.0  10.7  24.33     4.5   6.101  \n",
      "772      995.3   6.101  -76.0  11.7  24.33     4.5   6.101  \n",
      "870      995.4   6.101  -75.0  10.7  24.33     4.5   6.101  \n",
      "973      995.4   6.101  -76.0  11.2  24.34     4.5   6.101  \n",
      "1066     995.3   6.101  -76.0  10.7  24.34     4.5   6.101  \n"
     ]
    }
   ],
   "source": [
    "\n",
    "from src.ml.room_clustering import RoomClusteringModel\n",
    "import pandas as pd\n",
    "\n",
    "# Load processed dataset\n",
    "df = pd.read_parquet(\"../data/processed/building_replay\")\n",
    "\n",
    "# Initialize & train model\n",
    "cluster_model = RoomClusteringModel(n_clusters=4)\n",
    "room_profiles = cluster_model.fit(df)\n",
    "\n",
    "# Save results\n",
    "room_profiles.to_csv(\"../data/processed/room_profiles.csv\", index=False)\n",
    "\n",
    "print(room_profiles.head(10))\n"
   ]
  }
 ],
 "metadata": {
  "kernelspec": {
   "display_name": "venv",
   "language": "python",
   "name": "python3"
  },
  "language_info": {
   "codemirror_mode": {
    "name": "ipython",
    "version": 3
   },
   "file_extension": ".py",
   "mimetype": "text/x-python",
   "name": "python",
   "nbconvert_exporter": "python",
   "pygments_lexer": "ipython3",
   "version": "3.13.3"
  }
 },
 "nbformat": 4,
 "nbformat_minor": 2
}

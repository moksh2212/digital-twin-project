{
 "cells": [
  {
   "cell_type": "code",
   "execution_count": 4,
   "metadata": {},
   "outputs": [
    {
     "name": "stdout",
     "output_type": "stream",
     "text": [
      "info\n",
      "temp        float64\n",
      "humidity    float64\n",
      "co2         float64\n",
      "light       float64\n",
      "movement      int64\n",
      "dtype: object\n",
      "✅ Cleaned dataset ready with 2010077 samples\n"
     ]
    },
    {
     "name": "stderr",
     "output_type": "stream",
     "text": [
      "/Users/mokshthakran/digital-twin-project/src/ml/anomaly.py:39: FutureWarning: DataFrame.fillna with 'method' is deprecated and will raise in a future version. Use obj.ffill() or obj.bfill() instead.\n",
      "  df = df.dropna(subset=[\"date_time\", \"room_id\"]).fillna(method=\"ffill\")\n"
     ]
    },
    {
     "name": "stdout",
     "output_type": "stream",
     "text": [
      "✅ Model trained on 2010077 samples and 5 features.\n"
     ]
    },
    {
     "name": "stderr",
     "output_type": "stream",
     "text": [
      "/Users/mokshthakran/digital-twin-project/src/ml/anomaly.py:39: FutureWarning: DataFrame.fillna with 'method' is deprecated and will raise in a future version. Use obj.ffill() or obj.bfill() instead.\n",
      "  df = df.dropna(subset=[\"date_time\", \"room_id\"]).fillna(method=\"ffill\")\n",
      "/Users/mokshthakran/digital-twin-project/src/ml/anomaly.py:64: FutureWarning: DataFrame.fillna with 'method' is deprecated and will raise in a future version. Use obj.ffill() or obj.bfill() instead.\n",
      "  X = df[self.features].fillna(method=\"ffill\")\n"
     ]
    },
    {
     "name": "stdout",
     "output_type": "stream",
     "text": [
      "info             date_time   co2  humidity  light  movement    nodeId  \\\n",
      "index                                                                   \n",
      "3735   2019-02-09 17:32:06  55.0      67.0    0.0         1  52ABEF43   \n",
      "3829   2019-02-09 17:33:10  55.0      67.0    0.0         1  52ABEF43   \n",
      "3931   2019-02-09 17:34:14  55.0      67.0    0.0         1  52ABEF43   \n",
      "13237  2019-02-09 19:12:41  55.0      66.0    0.0         1  52ABEF43   \n",
      "13341  2019-02-09 19:13:45  55.0      66.0    0.0         1  52ABEF43   \n",
      "13438  2019-02-09 19:14:49  55.0      66.0    0.0         1  52ABEF43   \n",
      "13541  2019-02-09 19:15:54  55.0      66.0    0.0         1  52ABEF43   \n",
      "19980  2019-02-09 20:23:19  55.0      65.0    0.0         1  52ABEF43   \n",
      "20083  2019-02-09 20:24:23  55.0      65.0    0.0         1  52ABEF43   \n",
      "20189  2019-02-09 20:25:27  55.0      65.0    0.0         1  52ABEF43   \n",
      "\n",
      "info  pressure roomNum   rssi   snr   temp voltage room_id  co2_z    temp_z  \\\n",
      "index                                                                         \n",
      "3735     995.7   6.101  -73.0  15.5  24.34     4.5   6.101    0.0  0.732874   \n",
      "3829     995.7   6.101  -75.0  10.7  24.34     4.5   6.101    0.0  0.717430   \n",
      "3931     995.7   6.101  -75.0  11.0  24.34     4.5   6.101    0.0  0.702931   \n",
      "13237    998.1   6.101  -76.0  11.2  24.36     4.5   6.101    0.0  1.345440   \n",
      "13341    998.3   6.101  -76.0  10.7  24.35     4.5   6.101    0.0  0.219025   \n",
      "13438    998.2   6.101  -76.0  11.2  24.36     4.5   6.101    0.0  1.291762   \n",
      "13541    998.4   6.101  -76.0  11.5  24.36     4.5   6.101    0.0  1.241389   \n",
      "19980   1000.1   6.101  -76.0  10.2  24.35     4.5   6.101    0.0  1.505652   \n",
      "20083   1000.1   6.101  -76.0  11.5  24.36     4.5   6.101    0.0  0.096814   \n",
      "20189   1000.1   6.101  -76.0  11.2  24.36     4.5   6.101    0.0  0.096814   \n",
      "\n",
      "info   humidity_z  z_anomaly  iforest_anomaly  anomaly  \n",
      "index                                                   \n",
      "3735     5.747049          1                0        1  \n",
      "3829     4.065437          1                0        1  \n",
      "3931     3.320697          1                0        1  \n",
      "13237    6.929646          1                0        1  \n",
      "13341    4.849742          1                0        1  \n",
      "13438    3.918333          1                0        1  \n",
      "13541    3.357082          1                0        1  \n",
      "19980    6.929646          1                0        1  \n",
      "20083    4.849742          1                0        1  \n",
      "20189    3.918333          1                0        1  \n",
      "   room_id  anomaly_count\n",
      "40   6.220          10310\n",
      "51  6.299B          10309\n",
      "25   6.205           5056\n",
      "53  6.299D           3162\n",
      "96   6.G01           2689\n",
      "24   6.204           2607\n",
      "31   6.210           1981\n",
      "61   6.308           1506\n",
      "0    6.101           1324\n",
      "33   6.212           1277\n"
     ]
    },
    {
     "name": "stderr",
     "output_type": "stream",
     "text": [
      "/Users/mokshthakran/digital-twin-project/src/ml/anomaly.py:76: FutureWarning: The default of observed=False is deprecated and will be changed to True in a future version of pandas. Pass observed=False to retain current behavior or observed=True to adopt the future default and silence this warning.\n",
      "  df.groupby(\"room_id\")[\"anomaly\"]\n"
     ]
    }
   ],
   "source": [
    "import pandas as pd\n",
    "import sys, os\n",
    "\n",
    "# Add project root to sys.path so we can import src/*\n",
    "sys.path.append(os.path.abspath(\"..\"))\n",
    "from src.ml.anomaly import AnomalyDetector\n",
    "\n",
    "# Load your cleaned data (Parquet)\n",
    "df = pd.read_parquet(\"../data/processed/building_replay\")\n",
    "\n",
    "# Initialize detector\n",
    "detector = AnomalyDetector(window_size=50, contamination=0.02)\n",
    "# Select relevant numeric features\n",
    "features = [\"temp\", \"humidity\", \"co2\", \"light\", \"movement\"]\n",
    "\n",
    "# Convert movement (True/False) to 1/0\n",
    "df[\"movement\"] = df[\"movement\"].astype(str).str.lower().map({\"true\": 1, \"false\": 0})\n",
    "\n",
    "# Convert all others to numeric (in case they are strings)\n",
    "df[features] = df[features].apply(pd.to_numeric, errors=\"coerce\")\n",
    "\n",
    "# Drop rows with missing numeric values\n",
    "df = df.dropna(subset=features)\n",
    "\n",
    "# Double check types\n",
    "print(df[features].dtypes)\n",
    "print(f\"✅ Cleaned dataset ready with {len(df)} samples\")\n",
    "\n",
    "detector.fit(df)\n",
    "\n",
    "# Detect anomalies\n",
    "df_anomalies = detector.detect(df)\n",
    "\n",
    "# View top anomalous events\n",
    "print(df_anomalies[df_anomalies[\"anomaly\"] == 1].head(10))\n",
    "\n",
    "# Summary by room\n",
    "summary = detector.get_anomaly_summary(df_anomalies)\n",
    "print(summary.head(10))\n",
    "\n",
    "# Optional: Save\n",
    "df_anomalies.to_csv(\"../data/processed/anomaly_detected.csv\", index=False)\n"
   ]
  }
 ],
 "metadata": {
  "kernelspec": {
   "display_name": "venv",
   "language": "python",
   "name": "python3"
  },
  "language_info": {
   "codemirror_mode": {
    "name": "ipython",
    "version": 3
   },
   "file_extension": ".py",
   "mimetype": "text/x-python",
   "name": "python",
   "nbconvert_exporter": "python",
   "pygments_lexer": "ipython3",
   "version": "3.13.3"
  }
 },
 "nbformat": 4,
 "nbformat_minor": 2
}
